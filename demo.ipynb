{
 "cells": [
  {
   "cell_type": "code",
   "execution_count": null,
   "metadata": {
    "collapsed": false
   },
   "outputs": [],
   "source": [
    "import pandas as pd\n",
    "from bokeh.plotting import figure, output_notebook, show, ColumnDataSource\n",
    "\n",
    "from figmenta import autovis\n",
    "\n",
    "output_notebook()"
   ]
  },
  {
   "cell_type": "code",
   "execution_count": null,
   "metadata": {
    "collapsed": false
   },
   "outputs": [],
   "source": [
    "raw = pd.read_csv('examples/shootings/shootings.csv')\n",
    "raw.head()"
   ]
  },
  {
   "cell_type": "code",
   "execution_count": null,
   "metadata": {
    "collapsed": false
   },
   "outputs": [],
   "source": [
    "df = raw.groupby(['state'], as_index=False).count()\n",
    "f = autovis(df, xs=['state'], ys=['age'], fig_args={'width':900})\n",
    "show(f)"
   ]
  },
  {
   "cell_type": "code",
   "execution_count": null,
   "metadata": {
    "collapsed": false
   },
   "outputs": [],
   "source": [
<<<<<<< Updated upstream
    "def wordnet_demo():\n",
    "    df = pd.read_csv('examples/wordnet/wordnet.csv', delimiter='\\t')\n",
    "    df['x_labels'] = df['decay_rate'].astype(str) + ', ' + df['depth'].astype(str)\n",
    "    df['stimuli_x'] = df.index + 3/4\n",
    "    df['stimuli_y'] = df['avg_stimuli'] / 2\n",
    "    df['lure_x'] = df.index + 3/4 + 1/4\n",
    "    df['lure_y'] = df['avg_lure'] / 2\n",
    "    df['external_x'] = df.index + 3/4 + 2/4\n",
    "    df['external_y'] = df['avg_external'] / 2\n",
    "    # create figure\n",
    "    f = figure(width=900, height=300,\n",
    "               x_range=list(df['x_labels']),\n",
    "               y_range=[0, 1],\n",
    "    )\n",
    "    f.xaxis.axis_label = 'Decay Rate, Depth'\n",
    "    f.xgrid.grid_line_color = None\n",
    "    f.yaxis.axis_label = 'Recall Rate'\n",
    "    f.ygrid[0].ticker.desired_num_ticks = 10\n",
    "    f.yaxis.minor_tick_line_color = None\n",
    "    color_map = {\n",
    "        'stimuli':Pastel1_3[1],\n",
    "        'lure':Pastel1_3[0],\n",
    "        'external':Pastel1_3[2],\n",
    "    }\n",
    "    # plot data bars\n",
    "    for col in ('stimuli', 'lure', 'external'):\n",
    "        columns = ['decay_rate', 'depth', col + '_x', col + '_y', 'avg_' + col]\n",
    "        plot_df = df[columns].rename(columns={\n",
    "                columns[2]:'x',\n",
    "                columns[3]:'y',\n",
    "                columns[4]:'height',\n",
    "        })\n",
    "        renderer = f.rect(\n",
    "            x='x',\n",
    "            y='y',\n",
    "            width=1/4,\n",
    "            height='height',\n",
    "            color=color_map[col],\n",
    "            legend=col.capitalize(),\n",
    "            source=ColumnDataSource(plot_df)\n",
    "        )\n",
    "        f.add_tools(HoverTool(renderers=[renderer], tooltips=[\n",
    "                ('Decay Rate', '@decay_rate{0.00}'),\n",
    "                ('Spreading Depth', '@depth'),\n",
    "                ('Type', col.capitalize()),\n",
    "                ('Recall Rate', '@height{0.00%}'),\n",
    "        ]))\n",
    "    # plot error bars\n",
    "    for i, col in enumerate(['stimuli', 'external']):\n",
    "        columns = [col + '_x', col + '_y', 'avg_' + col, 'std_' + col]\n",
    "        plot_df = df[columns].rename(columns={\n",
    "                columns[0]:'x',\n",
    "                columns[1]:'y',\n",
    "                columns[2]:'height',\n",
    "                columns[3]:'stdev',\n",
    "        })\n",
    "        plot_df['top'] = plot_df['height'] + plot_df['stdev']\n",
    "        plot_df['bottom'] = plot_df['height'] - plot_df['stdev']\n",
    "        plot_df['left'] = plot_df['x'] - 1/8\n",
    "        plot_df['right'] = plot_df['x'] + 1/8\n",
    "        f.square(x='x', y='height', color='#888A85', source=ColumnDataSource(plot_df))\n",
    "        f.segment(x0='left', y0='top', x1='right', y1='top', color='#888A85', source=ColumnDataSource(plot_df))\n",
    "        f.segment(x0='left', y0='bottom', x1='right', y1='bottom', color='#888A85', source=ColumnDataSource(plot_df))\n",
    "        f.segment(x0='x', y0='top', x1='x', y1='bottom', color='#888A85', source=ColumnDataSource(plot_df))\n",
    "    # plot human data\n",
    "    f.line(\n",
    "        x=[0, df.shape[0] + 1],\n",
    "        y=0.62,\n",
    "        line_width=3,\n",
    "        color=Paired6[1],\n",
    "        legend='DRM Stimuli',\n",
    "    )\n",
    "    f.line(\n",
    "        x=[0, df.shape[0] + 1],\n",
    "        y=0.55,\n",
    "        line_width=3,\n",
    "        color=Paired6[5],\n",
    "        legend='DRM Lure',\n",
    "    )\n",
    "\n",
    "    f.legend.location = 'top_left'\n",
    "    show(f)\n",
    "def wordnet_auto_demo():\n",
    "    df = pd.read_csv('examples/wordnet/wordnet-reshaped.csv', delimiter='\\t')\n",
    "    df['decay_rate_depth'] = df['decay_rate'].astype(str) + ', ' + df['depth'].astype(str)\n",
    "    f = autovis(df, xs=['decay_rate_depth', 'type'], ys=['recall_rate'],\n",
    "                fig_args={'width':900, 'height':300,\n",
    "                          'x_axis_label':'Decay Rate, Depth',\n",
    "                          'y_axis_label':'Recall Rate'})\n",
    "    f.line(\n",
    "        x=[0, df.shape[0] + 1],\n",
    "        y=0.62,\n",
    "        line_width=3,\n",
    "        color=Paired6[5],\n",
    "        legend='DRM Stimuli',\n",
    "    )\n",
    "    f.line(\n",
    "        x=[0, df.shape[0] + 1],\n",
    "        y=0.55,\n",
    "        line_width=3,\n",
    "        color=Paired6[1],\n",
    "        legend='DRM Lure',\n",
    "    )\n",
    "    f.legend.location = 'top_left'\n",
    "    show(f)\n",
    "wordnet_demo()\n",
    "wordnet_auto_demo()"
=======
    "df = pd.DataFrame(list([i, i * i] for i in range(10)), columns=['x', 'y'])\n",
    "f = autovis(df, xs=['x'], ys=['y'], fig_args={'width':900})\n",
    "show(f)"
>>>>>>> Stashed changes
   ]
  }
 ],
 "metadata": {
  "kernelspec": {
   "display_name": "Python 3",
   "language": "python",
   "name": "python3"
  },
  "language_info": {
   "codemirror_mode": {
    "name": "ipython",
    "version": 3
   },
   "file_extension": ".py",
   "mimetype": "text/x-python",
   "name": "python",
   "nbconvert_exporter": "python",
   "pygments_lexer": "ipython3",
   "version": "3.5.2"
  }
 },
 "nbformat": 4,
 "nbformat_minor": 0
}
