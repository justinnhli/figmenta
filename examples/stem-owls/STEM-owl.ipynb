{
 "cells": [
  {
   "cell_type": "code",
   "execution_count": null,
   "metadata": {
    "collapsed": false
   },
   "outputs": [],
   "source": [
    "from datetime import datetime\n",
    "\n",
    "import pandas as pd\n",
    "from bokeh.plotting import output_notebook, figure, show, ColumnDataSource\n",
    "from bokeh.models import HoverTool\n",
    "\n",
    "output_notebook()"
   ]
  },
  {
   "cell_type": "code",
   "execution_count": null,
   "metadata": {
    "collapsed": false
   },
   "outputs": [],
   "source": [
    "df = pd.read_csv('stem-owls.csv', delimiter=' ')\n",
    "df['time'] = df['time_str'].apply(lambda t: datetime.strptime(t, '%H:%M'))\n",
    "for dept in df['dept'].unique():\n",
    "    plot_df = df[df['dept'] == dept]\n",
    "    f = figure(\n",
    "        x_axis_type='datetime',\n",
    "        title='Frequency of Class Start Times in {} from 2010-2016'.format(dept),\n",
    "    )\n",
    "    renderer = f.circle(\n",
    "        x='time',\n",
    "        y='count',\n",
    "        source=ColumnDataSource(plot_df),\n",
    "    )\n",
    "    f.add_tools(HoverTool(renderers=[renderer], tooltips=[\n",
    "                ('Time', '@time_str'),\n",
    "                ('Count', '@count'),\n",
    "            ]))\n",
    "    show(f)"
   ]
  }
 ],
 "metadata": {
  "kernelspec": {
   "display_name": "Python 3",
   "language": "python",
   "name": "python3"
  },
  "language_info": {
   "codemirror_mode": {
    "name": "ipython",
    "version": 3
   },
   "file_extension": ".py",
   "mimetype": "text/x-python",
   "name": "python",
   "nbconvert_exporter": "python",
   "pygments_lexer": "ipython3",
   "version": "3.5.2"
  }
 },
 "nbformat": 4,
 "nbformat_minor": 1
}
