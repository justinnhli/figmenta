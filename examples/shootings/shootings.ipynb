{
 "cells": [
  {
   "cell_type": "code",
   "execution_count": null,
   "metadata": {
    "collapsed": false
   },
   "outputs": [],
   "source": [
    "import pandas as pd\n",
    "from bokeh.plotting import output_notebook, figure, show, ColumnDataSource\n",
    "from bokeh.models import HoverTool\n",
    "\n",
    "output_notebook()"
   ]
  },
  {
   "cell_type": "code",
   "execution_count": null,
   "metadata": {
    "collapsed": false
   },
   "outputs": [],
   "source": [
    "raw_data = pd.read_csv('shooting.csv', parse_dates=['date'])\n",
    "raw_data.head()"
   ]
  },
  {
   "cell_type": "code",
   "execution_count": null,
   "metadata": {
    "collapsed": false
   },
   "outputs": [],
   "source": [
    "# group by state and count number of shootings\n",
    "df = raw_data.groupby(['state'], as_index=False).count()\n",
    "# rename the 'id' column to 'count'\n",
    "df = df.rename(columns={'id':'count'})\n",
    "# extract the 'state' and 'count' columns\n",
    "df = df[['state', 'count']]\n",
    "# sort by the number of shootings (in descending order)\n",
    "df = df.sort_values(['count'], ascending=False)\n",
    "df.head()"
   ]
  },
  {
   "cell_type": "code",
   "execution_count": null,
   "metadata": {
    "collapsed": false
   },
   "outputs": [],
   "source": [
    "df['y'] = df['count'] / 2\n",
    "f = figure(\n",
    "    x_range=list(df['state']),\n",
    "    y_range=[0, 1.1 * df['count'].max()]\n",
    ")\n",
    "f.line(\n",
    "    x='state',\n",
    "    y='count',\n",
    "    line_width=2,\n",
    "    color='#000000',\n",
    "    source=ColumnDataSource(df),\n",
    ")\n",
    "f.add_tools(HoverTool(tooltips=[\n",
    "        ('State', '@state'),\n",
    "        ('Count', '@count'),\n",
    "]))\n",
    "show(f)"
   ]
  },
  {
   "cell_type": "code",
   "execution_count": null,
   "metadata": {
    "collapsed": false
   },
   "outputs": [],
   "source": [
    "raw_data.dtypes"
   ]
  },
  {
   "cell_type": "code",
   "execution_count": null,
   "metadata": {
    "collapsed": false
   },
   "outputs": [],
   "source": [
    "sorted(raw_data['age'].dropna().unique())"
   ]
  }
 ],
 "metadata": {
  "kernelspec": {
   "display_name": "Python 3",
   "language": "python",
   "name": "python3"
  },
  "language_info": {
   "codemirror_mode": {
    "name": "ipython",
    "version": 3
   },
   "file_extension": ".py",
   "mimetype": "text/x-python",
   "name": "python",
   "nbconvert_exporter": "python",
   "pygments_lexer": "ipython3",
   "version": "3.5.2"
  }
 },
 "nbformat": 4,
 "nbformat_minor": 1
}
