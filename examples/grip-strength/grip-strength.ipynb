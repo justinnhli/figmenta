{
 "cells": [
  {
   "cell_type": "code",
   "execution_count": null,
   "metadata": {
    "collapsed": false
   },
   "outputs": [],
   "source": [
    "from math import sqrt\n",
    "\n",
    "import pandas as pd\n",
    "from bokeh.plotting import output_notebook, figure, show, ColumnDataSource\n",
    "from bokeh.models import HoverTool\n",
    "from bokeh.palettes import Set1_3\n",
    "\n",
    "output_notebook()"
   ]
  },
  {
   "cell_type": "code",
   "execution_count": null,
   "metadata": {
    "collapsed": false
   },
   "outputs": [],
   "source": [
    "# https://wwwn.cdc.gov/Nchs/Nhanes/2011-2012/DEMO_G.XPT\n",
    "demo_df = pd.read_sas('DEMO_G.XPT')[['SEQN', 'RIAGENDR', 'RIDAGEYR']].rename(columns={\n",
    "        'RIAGENDR':'gender',\n",
    "        'RIDAGEYR':'age',\n",
    "    }).set_index('SEQN')\n",
    "demo_df.gender = demo_df.gender.astype(int)\n",
    "demo_df.age = demo_df.age.astype(int)\n",
    "demo_df.head()"
   ]
  },
  {
   "cell_type": "code",
   "execution_count": null,
   "metadata": {
    "collapsed": false
   },
   "outputs": [],
   "source": [
    "# https://wwwn.cdc.gov/Nchs/Nhanes/2011-2012/MGX_G.XPT\n",
    "grip_df = pd.read_sas('MGX_G.XPT')[['SEQN', 'MGDCGSZ']].rename(columns={\n",
    "        'MGDCGSZ':'grip_strength',\n",
    "    }).set_index('SEQN')\n",
    "grip_df.grip_strength = grip_df.grip_strength.round()\n",
    "grip_df.head()"
   ]
  },
  {
   "cell_type": "code",
   "execution_count": null,
   "metadata": {
    "collapsed": false
   },
   "outputs": [],
   "source": [
    "df = demo_df.join(grip_df).dropna().reset_index()\n",
    "df.head()"
   ]
  },
  {
   "cell_type": "code",
   "execution_count": null,
   "metadata": {
    "collapsed": false
   },
   "outputs": [],
   "source": [
    "plot_df = df.groupby(['gender', 'age', 'grip_strength'], as_index=False).count().rename(columns={'SEQN':'count'})\n",
    "plot_df['color'] = plot_df['gender'].map(lambda g: Set1_3[g])\n",
    "plot_df['radius'] = plot_df['count'].map(lambda n: sqrt(n) / 2)\n",
    "plot_df['gender'] = plot_df['gender'].map(lambda g: ['', 'Male', 'Female'][g])\n",
    "plot_df.head()"
   ]
  },
  {
   "cell_type": "code",
   "execution_count": null,
   "metadata": {
    "collapsed": false
   },
   "outputs": [],
   "source": [
    "f = figure(\n",
    "    width=900,\n",
    "    height=900,\n",
    "    x_axis_label='Age (years)',\n",
    "    y_range=[0, 200],\n",
    "    y_axis_label='Combined Grip Strength (kg)',\n",
    ")\n",
    "f.circle(\n",
    "    x='age',\n",
    "    y='grip_strength',\n",
    "    radius='radius',\n",
    "    color='color',\n",
    "    line_width=1.25,\n",
    "    line_alpha=0.6,\n",
    "    fill_alpha=0,\n",
    "    legend='gender',\n",
    "    source=ColumnDataSource(plot_df),\n",
    ")\n",
    "f.add_tools(HoverTool(tooltips=[\n",
    "            ('Gender', '@gender'),\n",
    "            ('Age', '@age'),\n",
    "            ('Grip Strength', '@grip_strength'),\n",
    "            ('Count', '@count'),\n",
    "        ]))\n",
    "show(f)"
   ]
  },
  {
   "cell_type": "code",
   "execution_count": null,
   "metadata": {
    "collapsed": false
   },
   "outputs": [],
   "source": [
    "plot_df = df.groupby(['gender', 'age']).count().rename(columns={'SEQN':'count'})[['count']]\n",
    "for i in range(0, 101, 25):\n",
    "    quantile = i / 100\n",
    "    qdf = df.groupby(['gender', 'age']).quantile(quantile)[['grip_strength']]\n",
    "    qdf = qdf.rename(columns={'grip_strength':'q{:03d}'.format(round(100 * quantile))})\n",
    "    plot_df = plot_df.join(qdf)\n",
    "plot_df = plot_df.reset_index()\n",
    "plot_df['color'] = plot_df['gender'].map(lambda g: Set1_3[g])\n",
    "plot_df['gender'] = plot_df['gender'].map(lambda g: ['', 'Male', 'Female'][g])\n",
    "plot_df.head()"
   ]
  },
  {
   "cell_type": "code",
   "execution_count": null,
   "metadata": {
    "collapsed": false,
    "scrolled": false
   },
   "outputs": [],
   "source": [
    "f = figure(\n",
    "    width=900,\n",
    "    height=900,\n",
    "    x_axis_label='Combined Grip Strength (kg)',\n",
    "    y_range=[0, 200],\n",
    "    y_axis_label='Age (years)',\n",
    ")\n",
    "f.segment(\n",
    "    x0='age',\n",
    "    y0='q100',\n",
    "    x1='age',\n",
    "    y1='q075',\n",
    "    color='color',\n",
    "    line_alpha=0.75,\n",
    "    source=ColumnDataSource(plot_df),\n",
    ")\n",
    "renderer = f.square(\n",
    "    x='age',\n",
    "    y='q050',\n",
    "    color='color',\n",
    "    legend='gender',\n",
    "    source=ColumnDataSource(plot_df),\n",
    ")\n",
    "f.segment(\n",
    "    x0='age',\n",
    "    y0='q025',\n",
    "    x1='age',\n",
    "    y1='q000',\n",
    "    color='color',\n",
    "    line_alpha=0.75,\n",
    "    source=ColumnDataSource(plot_df),\n",
    ")\n",
    "f.add_tools(HoverTool(renderers=[renderer], tooltips=[\n",
    "            ('Gender', '@gender'),\n",
    "            ('Age', '@age'),\n",
    "            ('Max', '@q100'),\n",
    "            ('Q1', '@q075'),\n",
    "            ('Median', '@q050'),\n",
    "            ('Q3', '@q025'),\n",
    "            ('Min', '@q000'),\n",
    "        ]))\n",
    "show(f)"
   ]
  }
 ],
 "metadata": {
  "kernelspec": {
   "display_name": "Python 3",
   "language": "python",
   "name": "python3"
  },
  "language_info": {
   "codemirror_mode": {
    "name": "ipython",
    "version": 3
   },
   "file_extension": ".py",
   "mimetype": "text/x-python",
   "name": "python",
   "nbconvert_exporter": "python",
   "pygments_lexer": "ipython3",
   "version": "3.5.2"
  }
 },
 "nbformat": 4,
 "nbformat_minor": 1
}
